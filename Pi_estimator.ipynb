{
  "cells":[
    {
      "cell_type":"code",
      "source":[
        "import numpy as np\n",
        "import matplotlib.pyplot as plt\n",
        "\n",
        "theta = np.linspace(0, 2*np.pi, 100)\n",
        "\n",
        "radius = 1\n",
        "\n",
        "a = radius*np.cos(theta)\n",
        "b = radius*np.sin(theta)\n",
        "\n",
        "figure, axes = plt.subplots(1)\n",
        "\n",
        "axes.plot(a, b)\n",
        "axes.set_aspect(1)\n",
        "\n",
        "plt.title('Circle using Parametric Equation')\n",
        "plt.show()"
      ],
      "execution_count":55,
      "outputs":[
        {
          "data":{
            "image\/png":"[encoded data removed]"
          },
          "metadata":{
            "image\/png":{
              "width":0,
              "height":0
            }
          },
          "output_type":"display_data"
        }
      ],
      "metadata":{
        
      }
    },
    {
      "cell_type":"code",
      "source":[
        "import matplotlib.pyplot as plt\n",
        "plt.axes()\n",
        "rectangle = plt.Rectangle((-1,-1), 2, 2 ,ec=\"red\")\n",
        "plt.gca().add_patch(rectangle)\n",
        "plt.axis('scaled')\n",
        "plt.show()"
      ],
      "execution_count":40,
      "outputs":[
        {
          "data":{
            "image\/png":"[encoded data removed]"
          },
          "metadata":{
            "image\/png":{
              "width":0,
              "height":0
            }
          },
          "output_type":"display_data"
        }
      ],
      "metadata":{
        
      }
    },
    {
      "cell_type":"code",
      "source":[
        "# if we get a random point of the cirle ( r=1) then we know that\n",
        "# the distance from the (0,0) is dis = (x^2 + y^2)^(1\/2).\n",
        "# Now if the distance is less (or equal) than 1 then the point belongs to the cirle\n",
        "# otherwise the point is out of the circle and belongs to the square with a = 1, \n",
        "# Now we can assume that the percentage between of the Circle and square are is the same \n",
        "# with the percentage of the total points which belongs to the area of circle and the total points\n",
        "# which belongs to the area of the square.\n",
        "# So we have that (πR^2) \/ (4R^2)  = total_circle points \/ total_square_points\n",
        "# => π = 4 * (total_circle points \/ total_square_points)"
      ],
      "execution_count":56,
      "outputs":[
        
      ],
      "metadata":{
        
      }
    },
    {
      "cell_type":"code",
      "source":[
        "import random\n",
        "\n",
        "def pi_estimator(n):\n",
        "    count_circle = 0\n",
        "    count_square = 0\n",
        "    for _ in range(n):\n",
        "        x = random.uniform(0,1)\n",
        "        y = random.uniform(0,1)\n",
        "        distance = x**2 + y**2\n",
        "        if distance <= 1:\n",
        "            count_circle +=1\n",
        "        count_square +=1\n",
        "    return 4 * count_circle \/ count_square  \n",
        "\n",
        "\n",
        "print('Estimated p value is :' ,pi_estimator(1000000))"
      ],
      "execution_count":60,
      "outputs":[
        {
          "name":"stdout",
          "text":[
            "Estimated p value is : 3.142984\n"
          ],
          "output_type":"stream"
        }
      ],
      "metadata":{
        
      }
    }
  ],
  "metadata":{
    
  },
  "nbformat":4,
  "nbformat_minor":0
}